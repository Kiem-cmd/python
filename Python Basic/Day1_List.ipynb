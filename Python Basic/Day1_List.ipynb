{
 "cells": [
  {
   "attachments": {},
   "cell_type": "markdown",
   "metadata": {},
   "source": [
    "## I. List "
   ]
  },
  {
   "attachments": {},
   "cell_type": "markdown",
   "metadata": {},
   "source": [
    "### Basic "
   ]
  },
  {
   "cell_type": "code",
   "execution_count": 28,
   "metadata": {},
   "outputs": [],
   "source": [
    "## example \n",
    "list1 = [1,2,3,4] \n",
    "list2 = ['cat','dog','bird','tiger'] \n",
    "list3 = [1,2.3,123.45,\"hello\"] "
   ]
  },
  {
   "cell_type": "code",
   "execution_count": 31,
   "metadata": {},
   "outputs": [
    {
     "name": "stdout",
     "output_type": "stream",
     "text": [
      "list1[0]:  1\n",
      "list2[1]:  dog\n",
      "list3[3]:  hello\n"
     ]
    }
   ],
   "source": [
    "## Individual value  \n",
    "print('list1[0]: ',list1[0])\n",
    "print('list2[1]: ',list2[1])\n",
    "print('list3[3]: ',list3[3])"
   ]
  },
  {
   "cell_type": "code",
   "execution_count": 32,
   "metadata": {},
   "outputs": [
    {
     "ename": "IndexError",
     "evalue": "list index out of range",
     "output_type": "error",
     "traceback": [
      "\u001b[1;31m---------------------------------------------------------------------------\u001b[0m",
      "\u001b[1;31mIndexError\u001b[0m                                Traceback (most recent call last)",
      "Cell \u001b[1;32mIn[32], line 2\u001b[0m\n\u001b[0;32m      1\u001b[0m \u001b[39m### Some error \u001b[39;00m\n\u001b[1;32m----> 2\u001b[0m \u001b[39mprint\u001b[39m(list1[\u001b[39m100\u001b[39;49m])   \u001b[39m## --> out range\u001b[39;00m\n\u001b[0;32m      3\u001b[0m \u001b[39mprint\u001b[39m(list1[\u001b[39m1.0\u001b[39m])   \u001b[39m## index must int \u001b[39;00m\n",
      "\u001b[1;31mIndexError\u001b[0m: list index out of range"
     ]
    }
   ],
   "source": [
    "### Some error \n",
    "print(list1[100])   ## --> out range\n",
    "print(list1[1.0])   ## --> index must int "
   ]
  },
  {
   "cell_type": "code",
   "execution_count": 35,
   "metadata": {},
   "outputs": [
    {
     "name": "stdout",
     "output_type": "stream",
     "text": [
      "list1[-1] =  4\n",
      "list2[-2] =  bird\n",
      "list3[-3] =  2.3\n"
     ]
    }
   ],
   "source": [
    "## Negative index \n",
    "print('list1[-1] = ',list1[-1])\n",
    "print('list2[-2] = ',list2[-2])\n",
    "print('list3[-3] = ',list3[-3])"
   ]
  },
  {
   "cell_type": "code",
   "execution_count": 36,
   "metadata": {},
   "outputs": [],
   "source": [
    "## Sublist \n",
    "list_number = [1,2,3,4,5,6,7,8]\n",
    "sub1 = list_number[1:3]\n",
    "sub2 = list_number[:6]\n",
    "sub3 = list_number[2:]\n",
    "sub4 = list_number[:]\n"
   ]
  },
  {
   "cell_type": "code",
   "execution_count": 37,
   "metadata": {},
   "outputs": [
    {
     "name": "stdout",
     "output_type": "stream",
     "text": [
      "[2, 3]\n",
      "[1, 2, 3, 4, 5, 6]\n",
      "[3, 4, 5, 6, 7, 8]\n",
      "[1, 2, 3, 4, 5, 6, 7, 8]\n"
     ]
    }
   ],
   "source": [
    "print(sub1)\n",
    "print(sub2)\n",
    "print(sub3)\n",
    "print(sub4)\n",
    "\n"
   ]
  },
  {
   "cell_type": "code",
   "execution_count": 38,
   "metadata": {},
   "outputs": [
    {
     "name": "stdout",
     "output_type": "stream",
     "text": [
      "Len :  8\n"
     ]
    }
   ],
   "source": [
    "## Len of list \n",
    "print('Len : ',len(list_number))"
   ]
  },
  {
   "cell_type": "code",
   "execution_count": 39,
   "metadata": {},
   "outputs": [
    {
     "name": "stdout",
     "output_type": "stream",
     "text": [
      "[1, 2, 3, 4, 5, 6, 7, 8]\n",
      "[1, 2, 3, 4, 10000, 6, 7, 8]\n"
     ]
    }
   ],
   "source": [
    "##  Can be change value in List\n",
    "print(list_number)\n",
    "list_number[4] = 10000\n",
    "print(list_number)"
   ]
  },
  {
   "cell_type": "code",
   "execution_count": 41,
   "metadata": {},
   "outputs": [
    {
     "name": "stdout",
     "output_type": "stream",
     "text": [
      "[1, 2, 3, 4, 'Dog', 'Cat']\n"
     ]
    }
   ],
   "source": [
    "## Concatenation \n",
    "print([1,2,3,4] + ['Dog','Cat'])\n"
   ]
  },
  {
   "cell_type": "code",
   "execution_count": 42,
   "metadata": {},
   "outputs": [
    {
     "name": "stdout",
     "output_type": "stream",
     "text": [
      "['Hello', 'Hello', 'Hello', 'Hello', 'Hello']\n"
     ]
    }
   ],
   "source": [
    "## Replication \n",
    "print([\"Hello\"] * 5)"
   ]
  },
  {
   "cell_type": "code",
   "execution_count": 43,
   "metadata": {},
   "outputs": [
    {
     "name": "stdout",
     "output_type": "stream",
     "text": [
      "[1, 2, 3, 4, 10000, 6, 7, 8]\n",
      "[1, 2, 3, 4, 6, 7, 8]\n"
     ]
    }
   ],
   "source": [
    "# Remove Value from list \n",
    "print(list_number)\n",
    "del list_number[4]\n",
    "print(list_number)"
   ]
  },
  {
   "attachments": {},
   "cell_type": "markdown",
   "metadata": {},
   "source": [
    "### Wokring with List"
   ]
  },
  {
   "cell_type": "code",
   "execution_count": 44,
   "metadata": {},
   "outputs": [
    {
     "name": "stdout",
     "output_type": "stream",
     "text": [
      "1\n",
      "2\n",
      "3\n",
      "4\n",
      "6\n",
      "7\n",
      "8\n"
     ]
    }
   ],
   "source": [
    "## Using for loop with list \n",
    "for i in list_number:\n",
    "    print(i)"
   ]
  },
  {
   "cell_type": "code",
   "execution_count": 45,
   "metadata": {},
   "outputs": [
    {
     "name": "stdout",
     "output_type": "stream",
     "text": [
      "John\n",
      "David\n",
      "Taylor\n"
     ]
    }
   ],
   "source": [
    "name_list = ['John','David','Taylor']\n",
    "for i in name_list:\n",
    "    print(i)"
   ]
  },
  {
   "cell_type": "code",
   "execution_count": 47,
   "metadata": {},
   "outputs": [
    {
     "name": "stdout",
     "output_type": "stream",
     "text": [
      "Name index 0 is: John\n",
      "Name index 1 is: David\n",
      "Name index 2 is: Taylor\n"
     ]
    }
   ],
   "source": [
    "for i in range(len(name_list)):\n",
    "    print(f'Name index {i} is: {name_list[i]}')"
   ]
  },
  {
   "cell_type": "code",
   "execution_count": 49,
   "metadata": {},
   "outputs": [
    {
     "name": "stdout",
     "output_type": "stream",
     "text": [
      "['John', 'David', 'Taylor']\n",
      "John in list ? :  True\n",
      "Justin in list ? :  False\n"
     ]
    }
   ],
   "source": [
    "### IN & NOT IN \n",
    "print(name_list)\n",
    "print('John in list ? : ','John' in name_list)\n",
    "print('Justin in list ? : ','Justin' in name_list)\n"
   ]
  },
  {
   "attachments": {},
   "cell_type": "markdown",
   "metadata": {},
   "source": [
    "### Method with list"
   ]
  },
  {
   "cell_type": "code",
   "execution_count": 50,
   "metadata": {},
   "outputs": [
    {
     "name": "stdout",
     "output_type": "stream",
     "text": [
      "['John', 'David', 'Taylor']\n"
     ]
    },
    {
     "data": {
      "text/plain": [
       "0"
      ]
     },
     "execution_count": 50,
     "metadata": {},
     "output_type": "execute_result"
    }
   ],
   "source": [
    "## index()\n",
    "print(name_list)\n",
    "name_list.index('John')"
   ]
  },
  {
   "cell_type": "code",
   "execution_count": 51,
   "metadata": {},
   "outputs": [
    {
     "name": "stdout",
     "output_type": "stream",
     "text": [
      "['John', 'David', 'Taylor', 'Sam']\n"
     ]
    }
   ],
   "source": [
    "## append()\n",
    "name_list.append('Sam')\n",
    "print(name_list)"
   ]
  },
  {
   "cell_type": "code",
   "execution_count": 53,
   "metadata": {},
   "outputs": [
    {
     "data": {
      "text/plain": [
       "['John', 'David', 'Kelvin', 'Taylor', 'Sam']"
      ]
     },
     "execution_count": 53,
     "metadata": {},
     "output_type": "execute_result"
    }
   ],
   "source": [
    "## insert()\n",
    "name_list.insert(2,'Kelvin')\n",
    "name_list"
   ]
  },
  {
   "cell_type": "code",
   "execution_count": 54,
   "metadata": {},
   "outputs": [
    {
     "data": {
      "text/plain": [
       "['John', 'David', 'Kelvin', 'Taylor']"
      ]
     },
     "execution_count": 54,
     "metadata": {},
     "output_type": "execute_result"
    }
   ],
   "source": [
    "## remove()\n",
    "name_list.remove('Sam')\n",
    "name_list"
   ]
  },
  {
   "cell_type": "code",
   "execution_count": 57,
   "metadata": {},
   "outputs": [
    {
     "name": "stdout",
     "output_type": "stream",
     "text": [
      "[123.56, 213.43, 243, 312, 321, 453, 453, 654]\n",
      "['Bird', 'Cat', 'Dog', 'Elephant', 'Tiger']\n"
     ]
    }
   ],
   "source": [
    "## sort()\n",
    "number = [312,321,453,213.43,654,243,453,123.56]\n",
    "number.sort()\n",
    "print(number)\n",
    "animal =['Dog','Cat','Tiger','Elephant','Bird']\n",
    "animal.sort(reverse=False)   ## Có thể chuyển reverse = True để đảo ngược chuỗi\n",
    "print(animal)  ## -> Alphabet"
   ]
  },
  {
   "cell_type": "code",
   "execution_count": 58,
   "metadata": {},
   "outputs": [
    {
     "ename": "TypeError",
     "evalue": "'<' not supported between instances of 'str' and 'int'",
     "output_type": "error",
     "traceback": [
      "\u001b[1;31m---------------------------------------------------------------------------\u001b[0m",
      "\u001b[1;31mTypeError\u001b[0m                                 Traceback (most recent call last)",
      "Cell \u001b[1;32mIn[58], line 3\u001b[0m\n\u001b[0;32m      1\u001b[0m \u001b[39m## vừa có int và str thì ko thể sort()\u001b[39;00m\n\u001b[0;32m      2\u001b[0m list1 \u001b[39m=\u001b[39m [\u001b[39m1\u001b[39m,\u001b[39m2\u001b[39m,\u001b[39m3\u001b[39m,\u001b[39m4\u001b[39m,\u001b[39m'\u001b[39m\u001b[39mname\u001b[39m\u001b[39m'\u001b[39m]\n\u001b[1;32m----> 3\u001b[0m list1\u001b[39m.\u001b[39;49msort()\n",
      "\u001b[1;31mTypeError\u001b[0m: '<' not supported between instances of 'str' and 'int'"
     ]
    }
   ],
   "source": [
    "## vừa có int và str thì ko thể sort()  ->> Error\n",
    "list1 = [1,2,3,4,'name']\n",
    "list1.sort()"
   ]
  },
  {
   "attachments": {},
   "cell_type": "markdown",
   "metadata": {},
   "source": [
    "### String"
   ]
  },
  {
   "cell_type": "code",
   "execution_count": 62,
   "metadata": {},
   "outputs": [
    {
     "name": "stdout",
     "output_type": "stream",
     "text": [
      ":  L\n",
      ":  i\n",
      ":  Lionel\n"
     ]
    }
   ],
   "source": [
    "name = 'Lionel Messi'\n",
    "print(': ',name[0])\n",
    "print(': ',name[-1])\n",
    "print(': ',name[0:6])"
   ]
  },
  {
   "cell_type": "code",
   "execution_count": 63,
   "metadata": {},
   "outputs": [
    {
     "name": "stdout",
     "output_type": "stream",
     "text": [
      "L -\n",
      "i -\n",
      "o -\n",
      "n -\n",
      "e -\n",
      "l -\n",
      "  -\n",
      "M -\n",
      "e -\n",
      "s -\n",
      "s -\n",
      "i -\n"
     ]
    }
   ],
   "source": [
    "for i in name:\n",
    "    print(i,\"-\")"
   ]
  },
  {
   "cell_type": "code",
   "execution_count": 67,
   "metadata": {},
   "outputs": [],
   "source": [
    "## Tuy nhiên string và list khác nhau ở điểm có thể thay đổi hay ko \n",
    "## Với list có thể thêm , sửa , xóa .... \n",
    "## với String thì ko "
   ]
  },
  {
   "cell_type": "code",
   "execution_count": 68,
   "metadata": {},
   "outputs": [
    {
     "ename": "TypeError",
     "evalue": "'str' object does not support item assignment",
     "output_type": "error",
     "traceback": [
      "\u001b[1;31m---------------------------------------------------------------------------\u001b[0m",
      "\u001b[1;31mTypeError\u001b[0m                                 Traceback (most recent call last)",
      "Cell \u001b[1;32mIn[68], line 2\u001b[0m\n\u001b[0;32m      1\u001b[0m \u001b[39m## Với Update(Sửa )\u001b[39;00m\n\u001b[1;32m----> 2\u001b[0m name[\u001b[39m7\u001b[39;49m] \u001b[39m=\u001b[39m \u001b[39m'\u001b[39m\u001b[39mt\u001b[39m\u001b[39m'\u001b[39m     \u001b[39m# -> Error\u001b[39;00m\n\u001b[0;32m      3\u001b[0m name[\u001b[39m3\u001b[39m] \u001b[39m=\u001b[39m \u001b[39m'\u001b[39m\u001b[39mthe\u001b[39m\u001b[39m'\u001b[39m   \u001b[39m# -> Error\u001b[39;00m\n",
      "\u001b[1;31mTypeError\u001b[0m: 'str' object does not support item assignment"
     ]
    }
   ],
   "source": [
    "name[7] = 't'     # -> Error\n",
    "name[3] = 'the'   # -> Error"
   ]
  },
  {
   "cell_type": "code",
   "execution_count": 73,
   "metadata": {},
   "outputs": [
    {
     "name": "stdout",
     "output_type": "stream",
     "text": [
      "Lionel Messi & his wife\n"
     ]
    }
   ],
   "source": [
    "## có thể thay đổi string bằng cách cắt ghép \n",
    "title = name + ' & his wife'\n",
    "print(title)"
   ]
  },
  {
   "cell_type": "code",
   "execution_count": 77,
   "metadata": {},
   "outputs": [
    {
     "data": {
      "text/plain": [
       "'&'"
      ]
     },
     "execution_count": 77,
     "metadata": {},
     "output_type": "execute_result"
    }
   ],
   "source": [
    "title[13]"
   ]
  },
  {
   "cell_type": "code",
   "execution_count": 80,
   "metadata": {},
   "outputs": [
    {
     "data": {
      "text/plain": [
       "'Lionel Messi and his wife'"
      ]
     },
     "execution_count": 80,
     "metadata": {},
     "output_type": "execute_result"
    }
   ],
   "source": [
    "## muốn thay thể & -> and \n",
    "title_ = title[:13] + 'and ' + title[15:]\n",
    "title_"
   ]
  },
  {
   "attachments": {},
   "cell_type": "markdown",
   "metadata": {},
   "source": [
    "### Tuple "
   ]
  },
  {
   "attachments": {},
   "cell_type": "markdown",
   "metadata": {},
   "source": [
    "<pre>\n",
    "Giống với List trư:\n",
    "* sử dụng ngoặc tròn ()\n",
    "* không thể thay đổi immutable\n",
    "</pre>"
   ]
  },
  {
   "cell_type": "code",
   "execution_count": 82,
   "metadata": {},
   "outputs": [
    {
     "name": "stdout",
     "output_type": "stream",
     "text": [
      "Name:  David\n",
      "Phone:  1234567\n"
     ]
    }
   ],
   "source": [
    "info = ('David',23,'London',1234567)\n",
    "print(\"Name: \",info[0])\n",
    "print(\"Phone: \",info[-1])"
   ]
  },
  {
   "cell_type": "code",
   "execution_count": 84,
   "metadata": {},
   "outputs": [
    {
     "ename": "TypeError",
     "evalue": "'tuple' object does not support item assignment",
     "output_type": "error",
     "traceback": [
      "\u001b[1;31m---------------------------------------------------------------------------\u001b[0m",
      "\u001b[1;31mTypeError\u001b[0m                                 Traceback (most recent call last)",
      "Cell \u001b[1;32mIn[84], line 2\u001b[0m\n\u001b[0;32m      1\u001b[0m \u001b[39m## not be change \u001b[39;00m\n\u001b[1;32m----> 2\u001b[0m info[\u001b[39m0\u001b[39;49m] \u001b[39m=\u001b[39m \u001b[39m\"\u001b[39m\u001b[39mKelvin\u001b[39m\u001b[39m\"\u001b[39m  \u001b[39m# -> Error\u001b[39;00m\n",
      "\u001b[1;31mTypeError\u001b[0m: 'tuple' object does not support item assignment"
     ]
    }
   ],
   "source": [
    "## not be change \n",
    "info[0] = \"Kelvin\"  # -> Error"
   ]
  },
  {
   "cell_type": "code",
   "execution_count": 85,
   "metadata": {},
   "outputs": [
    {
     "name": "stdout",
     "output_type": "stream",
     "text": [
      "<class 'str'>\n",
      "<class 'tuple'>\n"
     ]
    }
   ],
   "source": [
    "## Lưu ý : Nếu bạn chỉ có 1 giá trị trong tuple thì phải đặt thêm dấu \",\"\n",
    "\n",
    "print(type(('Hello')))  # -> ko có dấu \",\" sẽ hiểu là string\n",
    "print(type(('Hello',))) # -> có dấu \",\" hiểu là tuple"
   ]
  },
  {
   "cell_type": "code",
   "execution_count": 86,
   "metadata": {},
   "outputs": [
    {
     "name": "stdout",
     "output_type": "stream",
     "text": [
      "<class 'tuple'>\n",
      "<class 'list'>\n"
     ]
    }
   ],
   "source": [
    "## tuple <--> list \n",
    "print(type(tuple([\"dog\",\"cat\",1,5.6])))\n",
    "print(type(list((\"dog\",\"cat\",1,5.6))))"
   ]
  },
  {
   "attachments": {},
   "cell_type": "markdown",
   "metadata": {},
   "source": [
    "### Reference "
   ]
  },
  {
   "cell_type": "code",
   "execution_count": 87,
   "metadata": {},
   "outputs": [
    {
     "name": "stdout",
     "output_type": "stream",
     "text": [
      "spam:  100\n",
      "chese:  42\n"
     ]
    }
   ],
   "source": [
    "spam = 42\n",
    "cheese = spam\n",
    "spam = 100 \n",
    "print(\"spam: \",spam)\n",
    "print(\"chese: \",cheese)"
   ]
  },
  {
   "cell_type": "code",
   "execution_count": 88,
   "metadata": {},
   "outputs": [
    {
     "name": "stdout",
     "output_type": "stream",
     "text": [
      "spam:  [['Hi']]\n",
      "chese:  [['Hi']]\n"
     ]
    }
   ],
   "source": [
    "spam = ['Hello']\n",
    "cheese = spam\n",
    "spam[0] = ['Hi']  \n",
    "print(\"spam: \",spam)\n",
    "print(\"chese: \",cheese)"
   ]
  },
  {
   "cell_type": "code",
   "execution_count": 90,
   "metadata": {},
   "outputs": [],
   "source": [
    "## WHY ????? \n",
    "## Hiểu đơn giản \n",
    "## với biến thì khi gán thì chỉ là gán giá trị của nó \n",
    "## với list thì khi gán là gán cả địa chỉ  của nó hay hai biến spam và cheese đã là 1 "
   ]
  },
  {
   "cell_type": "code",
   "execution_count": 91,
   "metadata": {},
   "outputs": [
    {
     "name": "stdout",
     "output_type": "stream",
     "text": [
      "['Hi']\n",
      "['Hello']\n"
     ]
    }
   ],
   "source": [
    "## Điều này có thể gây ra một số khó khăn \n",
    "## sử dụng copy()\n",
    "\n",
    "list1 = [\"Hello\"]\n",
    "list2 = list1.copy()\n",
    "list1 = [\"Hi\"]\n",
    "print(list1)\n",
    "print(list2)"
   ]
  },
  {
   "attachments": {},
   "cell_type": "markdown",
   "metadata": {},
   "source": [
    "-------------------------------------------------------------------------------------------------------"
   ]
  },
  {
   "attachments": {},
   "cell_type": "markdown",
   "metadata": {},
   "source": [
    "## Some trick with List,String,Tuple"
   ]
  },
  {
   "attachments": {},
   "cell_type": "markdown",
   "metadata": {},
   "source": [
    "1. Unpacking a Sequence into Separate Variables\n",
    "\n",
    "    Giải nén một chuỗi thành các biến riêng biệt "
   ]
  },
  {
   "cell_type": "code",
   "execution_count": 2,
   "metadata": {},
   "outputs": [],
   "source": [
    "p = (4,5)\n",
    "x,y = p "
   ]
  },
  {
   "cell_type": "code",
   "execution_count": 4,
   "metadata": {},
   "outputs": [
    {
     "name": "stdout",
     "output_type": "stream",
     "text": [
      "x =  4\n",
      "y =  5\n"
     ]
    }
   ],
   "source": [
    "print('x = ',x)\n",
    "print('y = ',y)"
   ]
  },
  {
   "cell_type": "code",
   "execution_count": 5,
   "metadata": {},
   "outputs": [],
   "source": [
    "data = ['Hanoi','NinhBinh','DaNang',(100,200,300)]\n",
    "city1,city2,city3,number = data"
   ]
  },
  {
   "cell_type": "code",
   "execution_count": 6,
   "metadata": {},
   "outputs": [
    {
     "name": "stdout",
     "output_type": "stream",
     "text": [
      "city1:  Hanoi\n",
      "city2:  NinhBinh\n",
      "city3:  DaNang\n",
      "number:  (100, 200, 300)\n"
     ]
    }
   ],
   "source": [
    "print('city1: ',city1)\n",
    "print('city2: ',city2)\n",
    "print('city3: ',city3)\n",
    "print('number: ',number)"
   ]
  },
  {
   "cell_type": "code",
   "execution_count": 7,
   "metadata": {},
   "outputs": [
    {
     "ename": "ValueError",
     "evalue": "not enough values to unpack (expected 6, got 4)",
     "output_type": "error",
     "traceback": [
      "\u001b[1;31m---------------------------------------------------------------------------\u001b[0m",
      "\u001b[1;31mValueError\u001b[0m                                Traceback (most recent call last)",
      "Cell \u001b[1;32mIn[7], line 1\u001b[0m\n\u001b[1;32m----> 1\u001b[0m city1,city2,city3,number1,number2,number3 \u001b[39m=\u001b[39m data\n",
      "\u001b[1;31mValueError\u001b[0m: not enough values to unpack (expected 6, got 4)"
     ]
    }
   ],
   "source": [
    "## Error -->>\n",
    "city1,city2,city3,number1,number2,number3 = data"
   ]
  },
  {
   "cell_type": "code",
   "execution_count": 8,
   "metadata": {},
   "outputs": [],
   "source": [
    "city1,city2,city3,(number1,number2,number3) = data"
   ]
  },
  {
   "cell_type": "code",
   "execution_count": 9,
   "metadata": {},
   "outputs": [
    {
     "name": "stdout",
     "output_type": "stream",
     "text": [
      "number1:  100\n",
      "number2:  200\n",
      "number3:  300\n"
     ]
    }
   ],
   "source": [
    "print('number1: ',number1)\n",
    "print('number2: ',number2)\n",
    "print('number3: ',number3)"
   ]
  },
  {
   "cell_type": "code",
   "execution_count": 10,
   "metadata": {},
   "outputs": [],
   "source": [
    "### Không chỉ với tuple hay list mà còn có thể sử dụng với các loại dữ liệu khác \n",
    "s = 'Hello'\n",
    "s1,s2,s3,s4,s5 = s "
   ]
  },
  {
   "cell_type": "code",
   "execution_count": 11,
   "metadata": {},
   "outputs": [
    {
     "name": "stdout",
     "output_type": "stream",
     "text": [
      "H - e - l - l - o\n"
     ]
    }
   ],
   "source": [
    "print(s1,'-',s2,'-',s3,'-',s4,'-',s5)"
   ]
  },
  {
   "cell_type": "code",
   "execution_count": 12,
   "metadata": {},
   "outputs": [],
   "source": [
    "### Nếu chỉ quan tâm đến một số phần tử thì có thể đặt các phần tử còn lại là _ \n",
    "city1,city2,city3,_ = data"
   ]
  },
  {
   "attachments": {},
   "cell_type": "markdown",
   "metadata": {},
   "source": [
    "2.  Unpacking Elements from Iterables of Arbitrary Length\n",
    " \n",
    "    Giải nén các phần tử từ Iterables có độ dài tùy ý"
   ]
  },
  {
   "attachments": {},
   "cell_type": "markdown",
   "metadata": {},
   "source": [
    "<pre>\n",
    "<b>Problem</b> : Giả sử có một tuple hay list dài tùy ý(chưa biết trước độ dài) mà muốn\n",
    "          lấy thành phần đầu và thành phần cuối thì làm thế nào ???\n",
    "</pre>"
   ]
  },
  {
   "cell_type": "code",
   "execution_count": 14,
   "metadata": {},
   "outputs": [],
   "source": [
    "def first_last(sequence):\n",
    "    first,*middle,last = sequence \n",
    "    return first,last "
   ]
  },
  {
   "cell_type": "code",
   "execution_count": 16,
   "metadata": {},
   "outputs": [
    {
     "name": "stdout",
     "output_type": "stream",
     "text": [
      "  Name \n",
      " Salary\n"
     ]
    }
   ],
   "source": [
    "data = [\"Name\",\"Age\",\"Address\",\"Hobbit\",\"Salary\"]\n",
    "name,salary = first_last(data)\n",
    "print(\" \",name,'\\n',salary)"
   ]
  },
  {
   "cell_type": "code",
   "execution_count": 19,
   "metadata": {},
   "outputs": [],
   "source": [
    "## tương tự nếu muốn loai bỏ phần từ đầu hay cuối "
   ]
  },
  {
   "cell_type": "code",
   "execution_count": 20,
   "metadata": {},
   "outputs": [],
   "source": [
    "## biến *.... luôn là list bất kể số lượng là bao nhiêu \n",
    "number1,*middle,number2 = [1,3]"
   ]
  },
  {
   "cell_type": "code",
   "execution_count": 23,
   "metadata": {},
   "outputs": [
    {
     "name": "stdout",
     "output_type": "stream",
     "text": [
      "[]\n",
      "<class 'list'>\n"
     ]
    }
   ],
   "source": [
    "print(middle) \n",
    "print(type(middle))"
   ]
  },
  {
   "cell_type": "code",
   "execution_count": 24,
   "metadata": {},
   "outputs": [
    {
     "name": "stdout",
     "output_type": "stream",
     "text": [
      "John :  [1234, 3124, 12312]\n",
      "David :  [7126, 37216]\n",
      "Taylor :  [87312, 42386, 34678, 3687, 37685, 6875]\n"
     ]
    }
   ],
   "source": [
    "### Môt ứng dung khác dùng để giải nén các lần lăp có độ dài khác nhau \n",
    "\n",
    "name_number = [\n",
    "    ('John',1234,3124,12312),\n",
    "    ('David',7126,37216),\n",
    "    ('Taylor',87312,42386,34678,3687,37685,6875)\n",
    "]\n",
    "for name,*number in name_number:\n",
    "    print(name,': ',number)"
   ]
  },
  {
   "cell_type": "code",
   "execution_count": 25,
   "metadata": {},
   "outputs": [
    {
     "name": "stdout",
     "output_type": "stream",
     "text": [
      "name:  John\n",
      "number:  234\n"
     ]
    }
   ],
   "source": [
    "### Một số trường hợp khác ...\n",
    "info = ['John',23,123.45,(312,543,634,234)]\n",
    "name,*_,(*_,number) = info \n",
    "print('name: ',name)\n",
    "print('number: ',number)"
   ]
  },
  {
   "cell_type": "code",
   "execution_count": 27,
   "metadata": {},
   "outputs": [
    {
     "name": "stdout",
     "output_type": "stream",
     "text": [
      "disk:  C:\n",
      "name_file:  cat.png\n"
     ]
    }
   ],
   "source": [
    "dirr = 'C:/ACER/User/Image/cat.png'\n",
    "disk,*_,name_file = dirr.split('/')\n",
    "print('disk: ',disk)\n",
    "print('name_file: ',name_file)"
   ]
  },
  {
   "cell_type": "code",
   "execution_count": null,
   "metadata": {},
   "outputs": [],
   "source": []
  }
 ],
 "metadata": {
  "kernelspec": {
   "display_name": "Python 3",
   "language": "python",
   "name": "python3"
  },
  "language_info": {
   "codemirror_mode": {
    "name": "ipython",
    "version": 3
   },
   "file_extension": ".py",
   "mimetype": "text/x-python",
   "name": "python",
   "nbconvert_exporter": "python",
   "pygments_lexer": "ipython3",
   "version": "3.11.1"
  },
  "orig_nbformat": 4
 },
 "nbformat": 4,
 "nbformat_minor": 2
}
